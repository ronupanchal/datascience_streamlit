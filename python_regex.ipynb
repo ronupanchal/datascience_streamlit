{
  "nbformat": 4,
  "nbformat_minor": 0,
  "metadata": {
    "colab": {
      "provenance": [],
      "include_colab_link": true
    },
    "kernelspec": {
      "name": "python3",
      "display_name": "Python 3"
    },
    "language_info": {
      "name": "python"
    }
  },
  "cells": [
    {
      "cell_type": "markdown",
      "metadata": {
        "id": "view-in-github",
        "colab_type": "text"
      },
      "source": [
        "<a href=\"https://colab.research.google.com/github/ronupanchal/datascience_streamlit/blob/main/python_regex.ipynb\" target=\"_parent\"><img src=\"https://colab.research.google.com/assets/colab-badge.svg\" alt=\"Open In Colab\"/></a>"
      ]
    },
    {
      "cell_type": "code",
      "execution_count": null,
      "metadata": {
        "id": "wZSG947zbGmw"
      },
      "outputs": [],
      "source": [
        "import re"
      ]
    },
    {
      "cell_type": "code",
      "source": [
        "string = '\\n and \\r are escape sequences.'\n",
        "\n",
        "result = re.findall(r'[\\n\\r]', string) \n",
        "print(result)"
      ],
      "metadata": {
        "colab": {
          "base_uri": "https://localhost:8080/"
        },
        "id": "nnoCTPGebSuu",
        "outputId": "7f7dca2b-3f71-4048-d508-e3d73d55e0c3"
      },
      "execution_count": null,
      "outputs": [
        {
          "output_type": "stream",
          "name": "stdout",
          "text": [
            "['\\n', '\\r']\n"
          ]
        }
      ]
    },
    {
      "cell_type": "code",
      "source": [
        "#match Function\n",
        "match = re.search(r'electronic', 'Computer is an electronic device')\n",
        "print(match)\n",
        "print(match.group())\n",
        "\n",
        "print('Start Index:', match.start())\n",
        "print('End Index:', match.end())\n"
      ],
      "metadata": {
        "colab": {
          "base_uri": "https://localhost:8080/"
        },
        "id": "XAIFj0qabXaa",
        "outputId": "bbc9398c-744b-451b-af10-e8a8ed737c61"
      },
      "execution_count": null,
      "outputs": [
        {
          "output_type": "stream",
          "name": "stdout",
          "text": [
            "<re.Match object; span=(15, 25), match='electronic'>\n",
            "electronic\n",
            "Start Index: 15\n",
            "End Index: 25\n"
          ]
        }
      ]
    },
    {
      "cell_type": "code",
      "source": [
        "# [] square brackets\n",
        "txt = \"The rain in Spain\"\n",
        "#Find all lower case characters alphabetically between \"a\" and \"m\":\n",
        "x = re.findall(\"[a-m]\", txt)\n",
        "print(x)\n"
      ],
      "metadata": {
        "colab": {
          "base_uri": "https://localhost:8080/"
        },
        "id": "GUbNPWnEb0AW",
        "outputId": "3896019c-9b79-41db-d8eb-86d7c9229a46"
      },
      "execution_count": null,
      "outputs": [
        {
          "output_type": "stream",
          "name": "stdout",
          "text": [
            "['h', 'e', 'a', 'i', 'i', 'a', 'i']\n"
          ]
        }
      ]
    },
    {
      "cell_type": "code",
      "source": [
        "# \\ backslash\n",
        "txt = \"That will be 59 dollars\"\n",
        "#Find all digit characters:\n",
        "x = re.findall(\"\\d\", txt)\n",
        "print(x)\n"
      ],
      "metadata": {
        "colab": {
          "base_uri": "https://localhost:8080/"
        },
        "id": "qS4gNlH2cdrS",
        "outputId": "5334d360-834c-481d-8952-d27f32676523"
      },
      "execution_count": null,
      "outputs": [
        {
          "output_type": "stream",
          "name": "stdout",
          "text": [
            "['5', '9']\n"
          ]
        }
      ]
    },
    {
      "cell_type": "code",
      "source": [
        "# . dot\n",
        "txt = \"hello planet\"\n",
        "#Search for a sequence that starts with \"he\", followed by two (any) characters, and an \"o\":\n",
        "x = re.findall(\"he..o\", txt)\n",
        "print(x)\n"
      ],
      "metadata": {
        "colab": {
          "base_uri": "https://localhost:8080/"
        },
        "id": "q_3DcTeOcprt",
        "outputId": "ca7d7f2f-e783-449f-e251-78c4a24a5249"
      },
      "execution_count": null,
      "outputs": [
        {
          "output_type": "stream",
          "name": "stdout",
          "text": [
            "['hello']\n"
          ]
        }
      ]
    },
    {
      "cell_type": "code",
      "source": [
        "# ^ caret\n",
        "txt = \"hello planet\"\n",
        "#Check if the string starts with 'hello':\n",
        "x = re.findall(\"^hello\", txt)\n",
        "if x:\n",
        "  print(\"Yes, the string starts with 'hello'\")\n",
        "else:\n",
        "  print(\"No match\")\n"
      ],
      "metadata": {
        "colab": {
          "base_uri": "https://localhost:8080/"
        },
        "id": "LvfnX0bEcvTE",
        "outputId": "cfae91db-8b93-4fcd-a30e-22b263eb3444"
      },
      "execution_count": null,
      "outputs": [
        {
          "output_type": "stream",
          "name": "stdout",
          "text": [
            "Yes, the string starts with 'hello'\n"
          ]
        }
      ]
    },
    {
      "cell_type": "code",
      "source": [
        "# $ dollar\n",
        "txt = \"hello planet\"\n",
        "#Check if the string ends with 'planet':\n",
        "x = re.findall(\"planet$\", txt)\n",
        "if x:\n",
        "  print(\"Yes, the string ends with 'planet'\")\n",
        "else:\n",
        "  print(\"No match\")\n"
      ],
      "metadata": {
        "colab": {
          "base_uri": "https://localhost:8080/"
        },
        "id": "pZF-2mnkc5Vp",
        "outputId": "619ad6f7-c253-4dc7-dd72-6a411fd02d44"
      },
      "execution_count": null,
      "outputs": [
        {
          "output_type": "stream",
          "name": "stdout",
          "text": [
            "Yes, the string ends with 'planet'\n"
          ]
        }
      ]
    },
    {
      "cell_type": "code",
      "source": [
        "# * star\n",
        "txt = \"hello planet\"\n",
        "#Search for a sequence that starts with \"he\", followed by 0 or more  (any) characters, and an \"o\":\n",
        "x = re.findall(\"he.*o\", txt)\n",
        "print(x)\n"
      ],
      "metadata": {
        "colab": {
          "base_uri": "https://localhost:8080/"
        },
        "id": "UAeB3uKzdBEz",
        "outputId": "061fd67d-446b-436c-8696-640294ce8e38"
      },
      "execution_count": null,
      "outputs": [
        {
          "output_type": "stream",
          "name": "stdout",
          "text": [
            "['hello']\n"
          ]
        }
      ]
    },
    {
      "cell_type": "code",
      "source": [
        "# + plus\n",
        "txt = \"hello planet\"\n",
        "#Search for a sequence that starts with \"he\", followed by 1 or more  (any) characters, and an \"o\":\n",
        "x = re.findall(\"he.+o\", txt)\n",
        "print(x)\n"
      ],
      "metadata": {
        "colab": {
          "base_uri": "https://localhost:8080/"
        },
        "id": "yXk5eyCOdJ8f",
        "outputId": "d1d59d1e-4133-4c6a-c520-1398d5bc510b"
      },
      "execution_count": null,
      "outputs": [
        {
          "output_type": "stream",
          "name": "stdout",
          "text": [
            "['hello']\n"
          ]
        }
      ]
    },
    {
      "cell_type": "code",
      "source": [
        "# ? Question Mark\n",
        "txt = \"hello planet\"\n",
        "#Search for a sequence that starts with \"he\", followed by 0 or 1  (any) character, and an \"o\":\n",
        "x = re.findall(\"he.?o\", txt)\n",
        "print(x)\n",
        "#This time we got no match, because there were not zero, not one, but two characters between \"he\" and the \"o“\n"
      ],
      "metadata": {
        "colab": {
          "base_uri": "https://localhost:8080/"
        },
        "id": "6gnJDLEOdYfg",
        "outputId": "5b798ede-5c30-450e-df4e-5ce08fab383e"
      },
      "execution_count": null,
      "outputs": [
        {
          "output_type": "stream",
          "name": "stdout",
          "text": [
            "[]\n"
          ]
        }
      ]
    },
    {
      "cell_type": "code",
      "source": [
        "# { } Braces\n",
        "txt = \"hello planet\"\n",
        "#Search for a sequence that starts with \"he\", followed excactly 2 (any) characters, and an \"o\":\n",
        "x = re.findall(\"he.{2}o\", txt)\n",
        "print(x)\n"
      ],
      "metadata": {
        "colab": {
          "base_uri": "https://localhost:8080/"
        },
        "id": "BkxVFSU-dkn2",
        "outputId": "4467b08a-e17f-47fb-c55d-c72c0ab21736"
      },
      "execution_count": null,
      "outputs": [
        {
          "output_type": "stream",
          "name": "stdout",
          "text": [
            "['hello']\n"
          ]
        }
      ]
    },
    {
      "cell_type": "code",
      "source": [
        "# | or\n",
        "txt = \"The rain in Spain falls mainly in the plain!\"\n",
        "#Check if the string contains either \"falls\" or \"stays\":\n",
        "x = re.findall(\"falls|stays\", txt)\n",
        "print(x)\n",
        "if x:\n",
        "  print(\"Yes, there is at least one match!\")\n",
        "else:\n",
        "  print(\"No match\")\n"
      ],
      "metadata": {
        "colab": {
          "base_uri": "https://localhost:8080/"
        },
        "id": "M3bT1i4odsxA",
        "outputId": "99714a5c-bec3-44e1-b385-3462c3f71e70"
      },
      "execution_count": null,
      "outputs": [
        {
          "output_type": "stream",
          "name": "stdout",
          "text": [
            "['falls']\n",
            "Yes, there is at least one match!\n"
          ]
        }
      ]
    },
    {
      "cell_type": "code",
      "source": [
        "# findall() function\n",
        "#Return a list containing every occurrence of \"ai\":\n",
        "txt = \"The rain in Spain\"\n",
        "x = re.findall(\"ai\", txt)\n",
        "print(x)\n"
      ],
      "metadata": {
        "colab": {
          "base_uri": "https://localhost:8080/"
        },
        "id": "0BtBH4Z5dzU_",
        "outputId": "33628a87-b77e-40d6-fd8a-08bb3d21708e"
      },
      "execution_count": null,
      "outputs": [
        {
          "output_type": "stream",
          "name": "stdout",
          "text": [
            "['ai', 'ai']\n"
          ]
        }
      ]
    },
    {
      "cell_type": "code",
      "source": [
        "# if no matches are found\n",
        "txt = \"The rain in Spain\"\n",
        "#Check if “India\" is in the string:\n",
        "x = re.findall(\"India\", txt)\n",
        "print(x)\n",
        "if (x):\n",
        "  print(\"Yes, there is at least one match!\")\n",
        "else:\n",
        "  print(\"No match\")\n"
      ],
      "metadata": {
        "colab": {
          "base_uri": "https://localhost:8080/"
        },
        "id": "D6JEOMand9Sx",
        "outputId": "97539f0c-6c0a-4b02-82a1-809cd2c9ce7b"
      },
      "execution_count": null,
      "outputs": [
        {
          "output_type": "stream",
          "name": "stdout",
          "text": [
            "[]\n",
            "No match\n"
          ]
        }
      ]
    },
    {
      "cell_type": "code",
      "source": [
        "# search() function\n",
        "txt = \"The rain in Spain\"\n",
        "x = re.search(\"\\s\", txt)\n",
        "print(\"The first white-space character is located in position:\", x.start())\n"
      ],
      "metadata": {
        "colab": {
          "base_uri": "https://localhost:8080/"
        },
        "id": "g0qtX49zeJ1d",
        "outputId": "9c2265a4-2252-4fef-85c5-4e12d8773885"
      },
      "execution_count": null,
      "outputs": [
        {
          "output_type": "stream",
          "name": "stdout",
          "text": [
            "The first white-space character is located in position: 3\n"
          ]
        }
      ]
    },
    {
      "cell_type": "code",
      "source": [
        "# If no matches are found\n",
        "txt = \"The rain in Spain\"\n",
        "x = re.search(\"India\", txt)\n",
        "print(x)\n"
      ],
      "metadata": {
        "colab": {
          "base_uri": "https://localhost:8080/"
        },
        "id": "3lD0gAE7eV0_",
        "outputId": "7e5fc1c0-7cb3-4e38-fd52-d0ddf7f6c99e"
      },
      "execution_count": null,
      "outputs": [
        {
          "output_type": "stream",
          "name": "stdout",
          "text": [
            "None\n"
          ]
        }
      ]
    },
    {
      "cell_type": "code",
      "source": [
        "# split() function\n",
        "#Split the string at every white-space character:\n",
        "txt = \"The rain in Spain\"\n",
        "x = re.split(\"\\s\", txt)\n",
        "print(x)\n"
      ],
      "metadata": {
        "colab": {
          "base_uri": "https://localhost:8080/"
        },
        "id": "mpnDtM_Zehyu",
        "outputId": "6bd3e58f-8901-4d56-c547-b7d057f3e0c6"
      },
      "execution_count": null,
      "outputs": [
        {
          "output_type": "stream",
          "name": "stdout",
          "text": [
            "['The', 'rain', 'in', 'Spain']\n"
          ]
        }
      ]
    },
    {
      "cell_type": "code",
      "source": [
        "# giving specific spli parameter\n",
        "#Split the string at the first white-space character:\n",
        "txt = \"The rain in Spain\"\n",
        "x = re.split(\"\\s\", txt, 2)\n",
        "print(x)\n"
      ],
      "metadata": {
        "colab": {
          "base_uri": "https://localhost:8080/"
        },
        "id": "Jmw-7NGYetQv",
        "outputId": "b65357ec-7573-45d6-e035-43ca9b3e04de"
      },
      "execution_count": null,
      "outputs": [
        {
          "output_type": "stream",
          "name": "stdout",
          "text": [
            "['The', 'rain', 'in Spain']\n"
          ]
        }
      ]
    },
    {
      "cell_type": "code",
      "source": [
        "# sub() function\n",
        "#Replace all white-space characters with the digit \"9\":\n",
        "txt = \"The rain in Spain\"\n",
        "x = re.sub(\"\\s\", \"7\", txt)\n",
        "print(x)\n"
      ],
      "metadata": {
        "colab": {
          "base_uri": "https://localhost:8080/"
        },
        "id": "JETJNErfe19T",
        "outputId": "365f2617-034a-4670-9d39-fd2a3cdf4ee9"
      },
      "execution_count": null,
      "outputs": [
        {
          "output_type": "stream",
          "name": "stdout",
          "text": [
            "The7rain7in7Spain\n"
          ]
        }
      ]
    },
    {
      "cell_type": "code",
      "source": [
        "# giving specific count parameter\n",
        "#Replace the first occurrences of a white-space character with the digit 9:\n",
        "txt = \"The rain in Spain\"\n",
        "x = re.sub(\"\\s\", \"9\", txt, 1)\n",
        "print(x)\n"
      ],
      "metadata": {
        "colab": {
          "base_uri": "https://localhost:8080/"
        },
        "id": "FCfuk7Ree-yH",
        "outputId": "de4a36ee-27e9-4611-98a7-0deed4018c8f"
      },
      "execution_count": null,
      "outputs": [
        {
          "output_type": "stream",
          "name": "stdout",
          "text": [
            "The9rain in Spain\n"
          ]
        }
      ]
    },
    {
      "cell_type": "code",
      "source": [
        "# match object\n",
        "#The search() function returns a Match object:\n",
        "txt = \"The rain in Spain\"\n",
        "x = re.search(\"pa\", txt)\n",
        "print(x)\n"
      ],
      "metadata": {
        "colab": {
          "base_uri": "https://localhost:8080/"
        },
        "id": "0vWu1pa1fJFc",
        "outputId": "f92056cc-49fb-42a9-b2a4-2d1f80fbee3f"
      },
      "execution_count": null,
      "outputs": [
        {
          "output_type": "stream",
          "name": "stdout",
          "text": [
            "<re.Match object; span=(13, 15), match='pa'>\n"
          ]
        }
      ]
    },
    {
      "cell_type": "code",
      "source": [
        "# .span()\n",
        "#Search for an upper case \"S\" character in the beginning of a word, and print its position:\n",
        "txt = \"The rain in Spain\"\n",
        "x = re.search(r\"\\bS\\w+\", txt)\n",
        "print(x.span())\n"
      ],
      "metadata": {
        "colab": {
          "base_uri": "https://localhost:8080/"
        },
        "id": "BS8QOA6UfRZC",
        "outputId": "03985f2f-f82e-4ad4-c89a-935bfc103cc6"
      },
      "execution_count": null,
      "outputs": [
        {
          "output_type": "stream",
          "name": "stdout",
          "text": [
            "(12, 17)\n"
          ]
        }
      ]
    },
    {
      "cell_type": "code",
      "source": [
        "# .string\n",
        "#The string property returns the search string:\n",
        "txt = \"The rain in Spain\"\n",
        "x = re.search(r\"\\bS\\w+\", txt)\n",
        "print(x.string)\n"
      ],
      "metadata": {
        "colab": {
          "base_uri": "https://localhost:8080/"
        },
        "id": "Lf1YXRw1fZCN",
        "outputId": "66f78e3f-1d3a-4ca1-cda0-0c8836ea9460"
      },
      "execution_count": null,
      "outputs": [
        {
          "output_type": "stream",
          "name": "stdout",
          "text": [
            "The rain in Spain\n"
          ]
        }
      ]
    },
    {
      "cell_type": "code",
      "source": [
        "# .group()\n",
        "#Search for an lower case “r\" character in the beginning of a word, and print the word:\n",
        "txt = \"The rain in Spain\"\n",
        "x = re.search(r\"\\br\\w+\", txt)\n",
        "print(x.group())\n"
      ],
      "metadata": {
        "id": "166W96aufe9T",
        "outputId": "b93fbbcd-c624-456d-8f65-6344ebe7eae5",
        "colab": {
          "base_uri": "https://localhost:8080/"
        }
      },
      "execution_count": null,
      "outputs": [
        {
          "output_type": "stream",
          "name": "stdout",
          "text": [
            "rain\n"
          ]
        }
      ]
    }
  ]
}